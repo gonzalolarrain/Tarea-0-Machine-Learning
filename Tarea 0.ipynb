{
 "cells": [
  {
   "cell_type": "markdown",
   "metadata": {},
   "source": [
    "## 1. Perceptrón a mano\n",
    "\n",
    "a) Escriba una función que calcule el valor de salida (*output*) del modelo $f(x)$ para un patrón de entrada $x$ a través de los pesos $w$ del modelo. *Decida si incluir los bias dentro de $w$ o manejarlos de manera separada*."
   ]
  },
  {
   "cell_type": "code",
   "execution_count": 1,
   "metadata": {},
   "outputs": [],
   "source": [
    "import numpy as num;\n",
    "def funcionSalida(entrada, pesos):\n",
    "    y = num.dot(entrada,pesos)\n",
    "    if(y>=0):\n",
    "        return 1\n",
    "    return 0"
   ]
  },
  {
   "cell_type": "markdown",
   "metadata": {},
   "source": [
    "b) Escriba una función que implemente el clásico algoritmo del Perceptrón para un problema binario que permita entrenarlo en un conjunto de datos de tamaño  N , leídos de manera online (uno a uno). Recordar la decisión anterior sobre los bias."
   ]
  },
  {
   "cell_type": "code",
   "execution_count": 10,
   "metadata": {},
   "outputs": [],
   "source": [
    "def perceptron(conjunto_entrenamiento, bias, umbral, tasa_aprendizaje, size_input, datos_aciertos):\n",
    "    pesos = []\n",
    "    for i in range(size_input):\n",
    "        pesos.append(0)\n",
    "    pesos.append(1)\n",
    "    aciertos=0\n",
    "    aciertos_precision=0\n",
    "    for vector_de_entrada, salida_deseada in conjunto_entrenamiento:\n",
    "        resultado =  funcionSalida(vector_de_entrada,pesos)\n",
    "        error = salida_deseada - resultado\n",
    "        if error == 0: \n",
    "            aciertos+=1\n",
    "        if error != 0:\n",
    "            for indice, valor in enumerate(vector_de_entrada):\n",
    "                pesos[indice] += tasa_aprendizaje * error * valor\n",
    "            for vector_de_entrada2, salida_deseada2 in conjunto_entrenamiento:\n",
    "                resultado = funcionSalida(vector_de_entrada2,pesos)\n",
    "                if salida_deseada2 == resultado:\n",
    "                    aciertos_precision+=1\n",
    "            datos_aciertos.append((aciertos_precision/len(conjunto_entrenamiento)))\n",
    "            aciertos_precision=0\n",
    "                \n",
    "                \n",
    "    print(\"Cantidad de aciertos: \" + str(aciertos))"
   ]
  },
  {
   "cell_type": "markdown",
   "metadata": {},
   "source": [
    "c) Demuestre que lo implementado funciona en un problema real de clasificación. Para esto utilice el dataset **Breast cancer wisconsin**, disponible a través de la librería __[*sklearn*](http://scikit-learn.org)__, el cual corresponde a la detección de cancer mamario a través de características relevantes (numéricas continuas) de un examen realizado, como por ejemplo la textura, simetría y tamaño de una masa mamaria. Estas características deben combinarse linealmente para la detección del cancer.\n",
    "<div class=\"alert alert-block alert-info\">Es una buena práctica el normalizar los datos antes de trabajar con el modelo</div>\n",
    "```python\n",
    "from sklearn.datasets import load_breast_cancer\n",
    "X_train,y_train = load_breast_cancer(return_X_y=True)\n",
    "scaler = StandardScaler().fit(X_train)\n",
    "X_train = scaler.transform(X_train)\n",
    "X_train = np.c_[X_train, np.ones(N) ] #add columns of 1's if you want\n",
    "```\n",
    "Para evaluar los resultados mida la exactitud (*accuracy*) de la clasificación durante el entrenamiento (por cada iteración/instancia/dato) y grafique, utilice el conjunto de entrenamiento realizando una sola pasada (el objetivo de esta sección es familiarizarse con el algoritmo). Además reporte el tiempo de entrenamiento mediante el algoritmo implementado"
   ]
  },
  {
   "cell_type": "code",
   "execution_count": 11,
   "metadata": {},
   "outputs": [
    {
     "name": "stdout",
     "output_type": "stream",
     "text": [
      "Cantidad de aciertos: 535\n",
      "Tiempo transcurrido: 0.10495138168334961 segundos\n"
     ]
    }
   ],
   "source": [
    "from sklearn.datasets import load_breast_cancer\n",
    "from sklearn.preprocessing import StandardScaler\n",
    "import time \n",
    "X_train,y_train = load_breast_cancer(return_X_y=True)\n",
    "scaler = StandardScaler().fit(X_train)\n",
    "X_train = scaler.transform(X_train)\n",
    "X_train = num.c_[X_train, num.ones(len(X_train))] #add columns of 1's if you want\n",
    "vectores_input = []\n",
    "\n",
    "for i in range(len(X_train)):\n",
    "    vectores_input.append((X_train[i],y_train[i]))\n",
    "\n",
    "bias = 0\n",
    "umbral = 0\n",
    "tasa_aprendizaje = 0.1\n",
    "inicio = time.time()\n",
    "datos_aciertos=[]\n",
    "perceptron(vectores_input,bias,umbral,tasa_aprendizaje,30,datos_aciertos)\n",
    "fin = time.time()\n",
    "print(\"Tiempo transcurrido: \" + str(fin-inicio) + \" segundos\")"
   ]
  },
  {
   "cell_type": "code",
   "execution_count": 12,
   "metadata": {},
   "outputs": [
    {
     "name": "stdout",
     "output_type": "stream",
     "text": [
      "34\n"
     ]
    },
    {
     "data": {
      "image/png": "[encoded data removed]",
      "text/plain": [
       "<Figure size 432x288 with 1 Axes>"
      ]
     },
     "metadata": {},
     "output_type": "display_data"
    }
   ],
   "source": [
    "import matplotlib.pyplot as plt\n",
    "\n",
    "print(len(datos_aciertos))\n",
    "plt.title(\"Precisión del Perceptrón\")\n",
    "plt.xlabel(\"Número de correcciones\")\n",
    "plt.ylabel(\"Porcentaje de precisión\")\n",
    "\n",
    "plt.scatter(range(len(datos_aciertos)),datos_aciertos)\n",
    "plt.show()"
   ]
  },
  {
   "cell_type": "markdown",
   "metadata": {},
   "source": [
    "> d) Escriba una función que implemente el **Forgetrón** [[3]](#refs) con una memoria de tamaño $K$ y la función de kernel como el producto interno (*inner-product*), esto es $<a,b> = \\sum_i a_i \\cdot b_i$."
   ]
  },
  {
   "cell_type": "code",
   "execution_count": 5,
   "metadata": {},
   "outputs": [],
   "source": [
    "def K(a,b):\n",
    "    return num.dot(a,b)\n",
    "\n",
    "def nuevotreshold(x,y,i,indices):\n",
    "    suma=0\n",
    "    for k in indices:\n",
    "        suma+=y[k]*K(i,x[k])\n",
    "    if(suma>=0):\n",
    "        return 1\n",
    "    else:\n",
    "        return 0"
   ]
  },
  {
   "cell_type": "markdown",
   "metadata": {},
   "source": [
    "#### Se utilizo la misma estructura del perceptron, salvo que la función treshold se ve reemplazada por este nuevo modelo, con una memoria de 10. No se utilizan pesos directamente, y se hizo respecto a lo comprendido en el paper oficial, específicamente en la página 3, en el párrafo que esta antes del primer teorema, en el cual se detalla la función como la sumatoria respecto a los índices de fallo, la solución de aquel índice y los datos de ese índice."
   ]
  },
  {
   "cell_type": "code",
   "execution_count": 6,
   "metadata": {},
   "outputs": [],
   "source": [
    "def forgetron(conjunto_entrenamiento, bias, umbral, tasa_aprendizaje, size_input, datos_aciertos,tamaño,vecen,vecsal):\n",
    "    pesos = []\n",
    "    fallos=[]\n",
    "    for i in range(size_input):\n",
    "        pesos.append(0)\n",
    "    pesos.append(1)\n",
    "    aciertos=0\n",
    "    aciertos_precision=0\n",
    "    cont=0\n",
    "    for vector_de_entrada, salida_deseada in conjunto_entrenamiento:\n",
    "        cont+=1\n",
    "        resultado = nuevotreshold(vecen,vecsal,vector_de_entrada,fallos)\n",
    "        error = salida_deseada - resultado\n",
    "        if error == 0: \n",
    "            aciertos+=1\n",
    "        if error != 0:\n",
    "            if(len(fallos)<=tamaño):\n",
    "                fallos.append(cont)\n",
    "            else:\n",
    "                fallos.remove(fallos[0])\n",
    "                fallos.append(cont)\n",
    "            for vector_de_entrada2, salida_deseada2 in conjunto_entrenamiento:\n",
    "                resultado = nuevotreshold(vecen,vecsal,vector_de_entrada2,fallos)\n",
    "                if salida_deseada2 == resultado:\n",
    "                    aciertos_precision+=1\n",
    "            datos_aciertos.append((aciertos_precision/len(conjunto_entrenamiento)))\n",
    "            aciertos_precision=0\n",
    "                \n",
    "                \n",
    "    print(\"Cantidad de aciertos: \" + str(aciertos))"
   ]
  },
  {
   "cell_type": "code",
   "execution_count": 7,
   "metadata": {},
   "outputs": [
    {
     "name": "stdout",
     "output_type": "stream",
     "text": [
      "Cantidad de aciertos: 520\n",
      "Tiempo transcurrido: 0.9134726524353027 segundos\n"
     ]
    }
   ],
   "source": [
    "X_train,y_train = load_breast_cancer(return_X_y=True)\n",
    "scaler = StandardScaler().fit(X_train)\n",
    "X_train = scaler.transform(X_train)\n",
    "X_train = num.c_[X_train, num.ones(len(X_train))] #add columns of 1's if you want\n",
    "vectores_input = []\n",
    "\n",
    "for i in range(len(X_train)):\n",
    "    vectores_input.append((X_train[i],y_train[i]))\n",
    "\n",
    "bias = 0\n",
    "umbral = 0\n",
    "tasa_aprendizaje = 0.1\n",
    "inicio = time.time()\n",
    "datos_aciertos=[]\n",
    "forgetron(vectores_input,bias,umbral,tasa_aprendizaje,30,datos_aciertos,10,X_train,y_train)\n",
    "fin = time.time()\n",
    "print(\"Tiempo transcurrido: \" + str(fin-inicio) + \" segundos\")"
   ]
  },
  {
   "cell_type": "code",
   "execution_count": 8,
   "metadata": {},
   "outputs": [
    {
     "name": "stdout",
     "output_type": "stream",
     "text": [
      "49\n"
     ]
    },
    {
     "data": {
      "image/png": "[encoded data removed]",
      "text/plain": [
       "<Figure size 432x288 with 1 Axes>"
      ]
     },
     "metadata": {},
     "output_type": "display_data"
    }
   ],
   "source": [
    "print(len(datos_aciertos))\n",
    "plt.title(\"Precisión del Forgetron\")\n",
    "plt.xlabel(\"Número de correcciones\")\n",
    "plt.ylabel(\"Porcentaje de precisión\")\n",
    "\n",
    "plt.scatter(range(len(datos_aciertos)),datos_aciertos)\n",
    "plt.show()"
   ]
  },
  {
   "cell_type": "markdown",
   "metadata": {},
   "source": [
    "##### Se nota una distinción en como los modelos van aprendiendo y como su accuracy cambia. No hay una situación exacta para decidir cuál de los dos modelos es mejor que otro, depende del uso que se les de"
   ]
  },
  {
   "cell_type": "code",
   "execution_count": null,
   "metadata": {},
   "outputs": [],
   "source": []
  }
 ],
 "metadata": {
  "kernelspec": {
   "display_name": "Python 3",
   "language": "python",
   "name": "python3"
  },
  "language_info": {
   "codemirror_mode": {
    "name": "ipython",
    "version": 3
   },
   "file_extension": ".py",
   "mimetype": "text/x-python",
   "name": "python",
   "nbconvert_exporter": "python",
   "pygments_lexer": "ipython3",
   "version": "3.6.5"
  }
 },
 "nbformat": 4,
 "nbformat_minor": 2
}
